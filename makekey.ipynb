{
 "cells": [
  {
   "cell_type": "code",
   "execution_count": 1,
   "metadata": {},
   "outputs": [],
   "source": [
    "import os\n",
    "import numpy as np"
   ]
  },
  {
   "cell_type": "code",
   "execution_count": 2,
   "metadata": {},
   "outputs": [],
   "source": [
    "filepath = os.getcwd()"
   ]
  },
  {
   "cell_type": "code",
   "execution_count": 3,
   "metadata": {},
   "outputs": [],
   "source": [
    "human = []\n",
    "s1 = []\n",
    "s2 = []\n",
    "s5 = []\n",
    "with open(filepath+'/'+'CM_protocol/cm_train.trn','r') as f:\n",
    "    line = f.readline()\n",
    "    while line:\n",
    "#         print(line)\n",
    "        if line.split()[-1] == 'human':\n",
    "            human.append(line)\n",
    "        elif line.split()[-2] == 'S1':\n",
    "            s1.append(line)\n",
    "        elif line.split()[-2] == 'S2':\n",
    "            s2.append(line)\n",
    "        elif line.split()[-2] == 'S5':\n",
    "            s5.append(line)\n",
    "        line = f.readline()\n",
    "        \n"
   ]
  },
  {
   "cell_type": "code",
   "execution_count": 30,
   "metadata": {},
   "outputs": [],
   "source": [
    "with open('human.txt','w') as f:\n",
    "    for e in human:\n",
    "        q = e.split()\n",
    "        c= q[0]+'/'+q[1]+'.wav'+'\\n'\n",
    "        f.writelines(c)"
   ]
  },
  {
   "cell_type": "code",
   "execution_count": 31,
   "metadata": {},
   "outputs": [],
   "source": [
    "with open('s1.txt','w') as f:\n",
    "    for e in s1:\n",
    "        q = e.split()\n",
    "        c= q[0]+'/'+q[1]+'.wav'+'\\n'\n",
    "        f.writelines(c)"
   ]
  },
  {
   "cell_type": "code",
   "execution_count": 32,
   "metadata": {},
   "outputs": [],
   "source": [
    "with open('s2.txt','w') as f:\n",
    "    for e in s2:\n",
    "        q = e.split()\n",
    "        c= q[0]+'/'+q[1]+'.wav'+'\\n'\n",
    "        f.writelines(c)"
   ]
  },
  {
   "cell_type": "code",
   "execution_count": 33,
   "metadata": {},
   "outputs": [],
   "source": [
    "with open('s5.txt','w') as f:\n",
    "    for e in s5:\n",
    "        q = e.split()\n",
    "        c= q[0]+'/'+q[1]+'.wav'+'\\n'\n",
    "        f.writelines(c)"
   ]
  },
  {
   "cell_type": "code",
   "execution_count": 17,
   "metadata": {},
   "outputs": [
    {
     "data": {
      "text/plain": [
       "'T2/T2_1000001.wav'"
      ]
     },
     "execution_count": 17,
     "metadata": {},
     "output_type": "execute_result"
    }
   ],
   "source": [
    "b= a.split()\n",
    "c = b[0]+'/'+ b[1]+'.wav'\n",
    "c"
   ]
  }
 ],
 "metadata": {
  "kernelspec": {
   "display_name": "Python 3",
   "language": "python",
   "name": "python3"
  },
  "language_info": {
   "codemirror_mode": {
    "name": "ipython",
    "version": 3
   },
   "file_extension": ".py",
   "mimetype": "text/x-python",
   "name": "python",
   "nbconvert_exporter": "python",
   "pygments_lexer": "ipython3",
   "version": "3.7.6"
  }
 },
 "nbformat": 4,
 "nbformat_minor": 4
}
