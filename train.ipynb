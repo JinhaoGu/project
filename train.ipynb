{
 "cells": [
  {
   "cell_type": "code",
   "execution_count": 17,
   "metadata": {},
   "outputs": [],
   "source": [
    "import torch\n",
    "import pickle\n",
    "import matplotlib as plt\n",
    "from tdnn import *\n",
    "import torch.nn as nn\n",
    "import torch.nn.functional as F\n",
    "import numpy as np"
   ]
  },
  {
   "cell_type": "code",
   "execution_count": 18,
   "metadata": {},
   "outputs": [],
   "source": [
    "with open('test1.pkl','rb') as f:\n",
    "    X,y = pickle.load(f)"
   ]
  },
  {
   "cell_type": "code",
   "execution_count": 19,
   "metadata": {},
   "outputs": [],
   "source": [
    "q= torch.tensor(X[0:5],dtype =torch.float)"
   ]
  },
  {
   "cell_type": "code",
   "execution_count": 4,
   "metadata": {},
   "outputs": [
    {
     "data": {
      "text/plain": [
       "torch.Size([5, 778, 24])"
      ]
     },
     "execution_count": 4,
     "metadata": {},
     "output_type": "execute_result"
    }
   ],
   "source": [
    "q.shape"
   ]
  },
  {
   "cell_type": "code",
   "execution_count": 5,
   "metadata": {},
   "outputs": [
    {
     "data": {
      "text/plain": [
       "5082"
      ]
     },
     "execution_count": 5,
     "metadata": {},
     "output_type": "execute_result"
    }
   ],
   "source": [
    "len(y)"
   ]
  },
  {
   "cell_type": "code",
   "execution_count": 6,
   "metadata": {},
   "outputs": [],
   "source": [
    "# mean = q.mean(1)\n",
    "# std = q.std(1)\n",
    "# mean.shape\n",
    "# std.shape\n",
    "# wexs= torch.cat((mean,std),dim=1)"
   ]
  },
  {
   "cell_type": "code",
   "execution_count": 7,
   "metadata": {},
   "outputs": [
    {
     "ename": "AttributeError",
     "evalue": "type object 'TDNN' has no attribute 'kernel'",
     "output_type": "error",
     "traceback": [
      "\u001b[0;31m---------------------------------------------------------------------------\u001b[0m",
      "\u001b[0;31mAttributeError\u001b[0m                            Traceback (most recent call last)",
      "\u001b[0;32m<ipython-input-7-29212685ea85>\u001b[0m in \u001b[0;36m<module>\u001b[0;34m\u001b[0m\n\u001b[1;32m      6\u001b[0m \u001b[0mqq\u001b[0m\u001b[0;34m.\u001b[0m\u001b[0mshape\u001b[0m\u001b[0;34m\u001b[0m\u001b[0;34m\u001b[0m\u001b[0m\n\u001b[1;32m      7\u001b[0m \u001b[0mx\u001b[0m \u001b[0;34m=\u001b[0m \u001b[0mx\u001b[0m\u001b[0;34m.\u001b[0m\u001b[0mtranspose\u001b[0m\u001b[0;34m(\u001b[0m\u001b[0;36m1\u001b[0m\u001b[0;34m,\u001b[0m\u001b[0;36m2\u001b[0m\u001b[0;34m)\u001b[0m\u001b[0;34m\u001b[0m\u001b[0;34m\u001b[0m\u001b[0m\n\u001b[0;32m----> 8\u001b[0;31m \u001b[0mTDNN\u001b[0m\u001b[0;34m.\u001b[0m\u001b[0mkernel\u001b[0m\u001b[0;34m(\u001b[0m\u001b[0mx\u001b[0m\u001b[0;34m)\u001b[0m\u001b[0;34m\u001b[0m\u001b[0;34m\u001b[0m\u001b[0m\n\u001b[0m",
      "\u001b[0;31mAttributeError\u001b[0m: type object 'TDNN' has no attribute 'kernel'"
     ]
    }
   ],
   "source": [
    "#mean\n",
    "#wexs.shape\n",
    "qq =q.unsqueeze(1)\n",
    "\n",
    "x= F.unfold(qq,(5, 24),stride=(1,24), dilation=(1,1))\n",
    "qq.shape\n",
    "x = x.transpose(1,2)\n",
    "TDNN.kernel(x)"
   ]
  },
  {
   "cell_type": "code",
   "execution_count": 8,
   "metadata": {},
   "outputs": [],
   "source": [
    "#xxx =nn.Linear(24*5, 512)"
   ]
  },
  {
   "cell_type": "code",
   "execution_count": 8,
   "metadata": {},
   "outputs": [],
   "source": [
    "net = nn.Sequential()"
   ]
  },
  {
   "cell_type": "code",
   "execution_count": 9,
   "metadata": {},
   "outputs": [],
   "source": [
    "net.add_module('frame1', TDNN(input_dim=24, output_dim=512, context_size=5, dilation=1))\n",
    "net.add_module('frame2', TDNN(input_dim=512, output_dim=512, context_size=3, dilation=2))\n",
    "net.add_module('frame3', TDNN(input_dim=512, output_dim=512, context_size=3, dilation=3))\n",
    "net.add_module('frame4', TDNN(input_dim=512, output_dim=512, context_size=1, dilation=1))\n",
    "net.add_module('frame5', TDNN(input_dim=512, output_dim=1500, context_size=1, dilation=1))\n",
    "net.add_module('pool',StatsPooling())\n",
    "net.add_module('segment6',segment(input_dim=3000, output_dim=512))\n",
    "net.add_module('segment7',segment(input_dim=512, output_dim=512))"
   ]
  },
  {
   "cell_type": "code",
   "execution_count": 10,
   "metadata": {},
   "outputs": [
    {
     "data": {
      "text/plain": [
       "Sequential(\n",
       "  (frame1): TDNN(\n",
       "    (kernel): Linear(in_features=120, out_features=512, bias=True)\n",
       "    (nonlinearity): ReLU()\n",
       "    (bn): BatchNorm1d(512, eps=1e-05, momentum=0.1, affine=True, track_running_stats=True)\n",
       "  )\n",
       "  (frame2): TDNN(\n",
       "    (kernel): Linear(in_features=1536, out_features=512, bias=True)\n",
       "    (nonlinearity): ReLU()\n",
       "    (bn): BatchNorm1d(512, eps=1e-05, momentum=0.1, affine=True, track_running_stats=True)\n",
       "  )\n",
       "  (frame3): TDNN(\n",
       "    (kernel): Linear(in_features=1536, out_features=512, bias=True)\n",
       "    (nonlinearity): ReLU()\n",
       "    (bn): BatchNorm1d(512, eps=1e-05, momentum=0.1, affine=True, track_running_stats=True)\n",
       "  )\n",
       "  (frame4): TDNN(\n",
       "    (kernel): Linear(in_features=512, out_features=512, bias=True)\n",
       "    (nonlinearity): ReLU()\n",
       "    (bn): BatchNorm1d(512, eps=1e-05, momentum=0.1, affine=True, track_running_stats=True)\n",
       "  )\n",
       "  (frame5): TDNN(\n",
       "    (kernel): Linear(in_features=512, out_features=1500, bias=True)\n",
       "    (nonlinearity): ReLU()\n",
       "    (bn): BatchNorm1d(1500, eps=1e-05, momentum=0.1, affine=True, track_running_stats=True)\n",
       "  )\n",
       "  (pool): StatsPooling()\n",
       "  (segment6): segment(\n",
       "    (kernel): Linear(in_features=3000, out_features=512, bias=True)\n",
       "    (nonlinearity): ReLU()\n",
       "    (bn): BatchNorm1d(512, eps=1e-05, momentum=0.1, affine=True, track_running_stats=True)\n",
       "  )\n",
       "  (segment7): segment(\n",
       "    (kernel): Linear(in_features=512, out_features=512, bias=True)\n",
       "    (nonlinearity): ReLU()\n",
       "    (bn): BatchNorm1d(512, eps=1e-05, momentum=0.1, affine=True, track_running_stats=True)\n",
       "  )\n",
       ")"
      ]
     },
     "execution_count": 10,
     "metadata": {},
     "output_type": "execute_result"
    }
   ],
   "source": [
    "#pp = p.unsqueeze(1)\n",
    "#pp =F.unfold(X[0],(5,24),stride=1,dilation=1)\n",
    "net"
   ]
  },
  {
   "cell_type": "code",
   "execution_count": 20,
   "metadata": {},
   "outputs": [],
   "source": [
    "# frame1 = TDNN(input_dim=24, output_dim=512, context_size=5, dilation=1)\n",
    "# frame2 = TDNN(input_dim=512, output_dim=512, context_size=3, dilation=2)\n",
    "# frame3 = TDNN(input_dim=512, output_dim=512, context_size=3, dilation=3)\n",
    "# frame4 = TDNN(input_dim=512, output_dim=512, context_size=1, dilation=1)\n",
    "# frame5 = TDNN(input_dim=512, output_dim=1500, context_size=1, dilation=1)\n",
    "# pool = StatsPooling()\n",
    "# segment6 = segment(input_dim=3000, output_dim=512)\n",
    "# segment7 =segment(input_dim=512, output_dim=512)"
   ]
  },
  {
   "cell_type": "code",
   "execution_count": 24,
   "metadata": {},
   "outputs": [],
   "source": [
    "# layer1 = frame1(q)# input TDNN(batch, seq_len, input_features)\n",
    "# layer2 = frame2(layer1)\n",
    "# layer3 = frame3(layer2)\n",
    "# layer4 = frame4(layer3)\n",
    "# layer5 = frame5(layer4)\n",
    "# layer6 = pool(layer5)\n",
    "# se = segment6(layer6)\n",
    "# se2 = segment7(se)"
   ]
  },
  {
   "cell_type": "code",
   "execution_count": 26,
   "metadata": {},
   "outputs": [
    {
     "data": {
      "text/plain": [
       "tensor([[-1.0211, -1.3784,  1.5703,  ...,  0.0000,  0.0000, -0.9971],\n",
       "        [ 1.6906, -0.3691, -1.0602,  ...,  0.0000,  0.0000,  1.6369],\n",
       "        [-0.9969, -0.3325,  0.5275,  ...,  0.0000,  0.0000,  0.0982],\n",
       "        [ 0.3226,  0.4608,  0.0227,  ...,  0.0000,  0.0000, -0.9971],\n",
       "        [ 0.0048,  1.6192, -1.0602,  ...,  0.0000,  0.0000,  0.2591]],\n",
       "       grad_fn=<TransposeBackward0>)"
      ]
     },
     "execution_count": 26,
     "metadata": {},
     "output_type": "execute_result"
    }
   ],
   "source": [
    "se"
   ]
  },
  {
   "cell_type": "code",
   "execution_count": null,
   "metadata": {},
   "outputs": [],
   "source": []
  },
  {
   "cell_type": "code",
   "execution_count": null,
   "metadata": {},
   "outputs": [],
   "source": []
  }
 ],
 "metadata": {
  "kernelspec": {
   "display_name": "Python 3",
   "language": "python",
   "name": "python3"
  },
  "language_info": {
   "codemirror_mode": {
    "name": "ipython",
    "version": 3
   },
   "file_extension": ".py",
   "mimetype": "text/x-python",
   "name": "python",
   "nbconvert_exporter": "python",
   "pygments_lexer": "ipython3",
   "version": "3.7.6"
  }
 },
 "nbformat": 4,
 "nbformat_minor": 4
}
