{
 "cells": [
  {
   "cell_type": "code",
   "execution_count": 29,
   "metadata": {},
   "outputs": [
    {
     "name": "stdout",
     "output_type": "stream",
     "text": [
      "/Users/tanikin/anaconda3/envs/deeplearning/bin/python\n"
     ]
    }
   ],
   "source": [
    "import torch\n",
    "import pickle\n",
    "#import matplotlib as plt\n",
    "from tdnn import *\n",
    "import torch.nn as nn\n",
    "import torch.nn.functional as F\n",
    "import numpy as np\n",
    "import torch.optim as optim\n",
    "from torch.utils.data import DataLoader\n",
    "import os\n",
    "import time\n",
    "import sys\n",
    "print(sys.executable)"
   ]
  },
  {
   "cell_type": "code",
   "execution_count": 30,
   "metadata": {},
   "outputs": [],
   "source": [
    "with open('train.pkl','rb') as f:\n",
    "    X,y = pickle.load(f)"
   ]
  },
  {
   "cell_type": "code",
   "execution_count": 3,
   "metadata": {},
   "outputs": [
    {
     "data": {
      "text/plain": [
       "-inf"
      ]
     },
     "execution_count": 3,
     "metadata": {},
     "output_type": "execute_result"
    }
   ],
   "source": [
    "\n",
    "a = -float('inf')#torch.log(torch.tensor(0,dtype= torch.float))\n",
    "a"
   ]
  },
  {
   "cell_type": "code",
   "execution_count": 31,
   "metadata": {},
   "outputs": [],
   "source": [
    "trainloader = DataLoader(list(zip(X,y)), shuffle=False, batch_size=100)"
   ]
  },
  {
   "cell_type": "code",
   "execution_count": 32,
   "metadata": {},
   "outputs": [],
   "source": [
    "for i, data in enumerate(trainloader, 0):\n",
    "    # get the inputs; data is a list of [inputs, labels]\n",
    "    inputs, labels = data\n",
    "    #inputs, labels = inputs.cuda(), labels.cuda()\n",
    "    #output= net(inputs)\n",
    "    "
   ]
  },
  {
   "cell_type": "code",
   "execution_count": 6,
   "metadata": {},
   "outputs": [],
   "source": [
    "for i in X:\n",
    "    for j in i:\n",
    "        if a in j:\n",
    "            print('nan')"
   ]
  },
  {
   "cell_type": "code",
   "execution_count": 33,
   "metadata": {},
   "outputs": [],
   "source": [
    " q= torch.tensor(X,dtype =torch.float,requires_grad=True)"
   ]
  },
  {
   "cell_type": "code",
   "execution_count": 8,
   "metadata": {},
   "outputs": [],
   "source": [
    "path = os.getcwd()"
   ]
  },
  {
   "cell_type": "code",
   "execution_count": 9,
   "metadata": {},
   "outputs": [
    {
     "data": {
      "text/plain": [
       "'/Users/tanikin/projct'"
      ]
     },
     "execution_count": 9,
     "metadata": {},
     "output_type": "execute_result"
    }
   ],
   "source": [
    "# p = inputs.argmax(dim=2)\n",
    "# p.shape\n",
    "path"
   ]
  },
  {
   "cell_type": "code",
   "execution_count": 10,
   "metadata": {},
   "outputs": [
    {
     "data": {
      "text/plain": [
       "torch.Size([1680, 756, 24])"
      ]
     },
     "execution_count": 10,
     "metadata": {},
     "output_type": "execute_result"
    }
   ],
   "source": [
    "q.shape"
   ]
  },
  {
   "cell_type": "code",
   "execution_count": 11,
   "metadata": {},
   "outputs": [
    {
     "data": {
      "text/plain": [
       "168"
      ]
     },
     "execution_count": 11,
     "metadata": {},
     "output_type": "execute_result"
    }
   ],
   "source": [
    "len(y[0])"
   ]
  },
  {
   "cell_type": "code",
   "execution_count": 12,
   "metadata": {},
   "outputs": [],
   "source": [
    "# mean = q.mean(1)\n",
    "# std = q.std(1)\n",
    "# mean.shape\n",
    "# std.shape\n",
    "# wexs= torch.cat((mean,std),dim=1)"
   ]
  },
  {
   "cell_type": "code",
   "execution_count": 13,
   "metadata": {},
   "outputs": [],
   "source": [
    "#mean\n",
    "#wexs.shape\n",
    "# qq =q.unsqueeze(1)\n",
    "\n",
    "# x= F.unfold(qq,(5, 24),stride=(1,24), dilation=(1,1))\n",
    "# qq.shape\n",
    "# x = x.transpose(1,2)\n",
    "# TDNN.kernel(x)"
   ]
  },
  {
   "cell_type": "code",
   "execution_count": 14,
   "metadata": {},
   "outputs": [],
   "source": [
    "#xxx =nn.Linear(24*5, 512)"
   ]
  },
  {
   "cell_type": "code",
   "execution_count": 15,
   "metadata": {},
   "outputs": [
    {
     "data": {
      "text/plain": [
       "168"
      ]
     },
     "execution_count": 15,
     "metadata": {},
     "output_type": "execute_result"
    }
   ],
   "source": [
    "len(y[0])"
   ]
  },
  {
   "cell_type": "code",
   "execution_count": 39,
   "metadata": {},
   "outputs": [],
   "source": [
    "net = nn.Sequential()\n",
    "net.add_module('frame1', TDNN(input_dim=24, output_dim=512, context_size=5, dilation=1))#layer 1\n",
    "net.add_module('frame2', TDNN(input_dim=512, output_dim=512, context_size=3, dilation=2))#layer 2\n",
    "net.add_module('frame3', TDNN(input_dim=512, output_dim=512, context_size=3, dilation=3))#layer 3\n",
    "net.add_module('frame4', TDNN(input_dim=512, output_dim=512, context_size=1, dilation=1))#layer 4\n",
    "net.add_module('frame5', TDNN(input_dim=512, output_dim=1500, context_size=1, dilation=1))#layer 5\n",
    "net.add_module('pool',StatsPooling())#pooling\n",
    "net.add_module('segment6',Segment(input_dim=3000, output_dim=512))#segment1\n",
    "net.add_module('segment7',Segment(input_dim=512, output_dim=512))#segment2\n",
    "\n"
   ]
  },
  {
   "cell_type": "code",
   "execution_count": 40,
   "metadata": {},
   "outputs": [],
   "source": [
    "save_model = torch.load('final_net.pth')"
   ]
  },
  {
   "cell_type": "code",
   "execution_count": 41,
   "metadata": {},
   "outputs": [
    {
     "data": {
      "text/plain": [
       "<All keys matched successfully>"
      ]
     },
     "execution_count": 41,
     "metadata": {},
     "output_type": "execute_result"
    }
   ],
   "source": [
    "model_dict = net.state_dict()\n",
    "state_dict = {k:v for k,v in save_model.items() if k in model_dict.keys()}\n",
    "model_dict.update(state_dict)\n",
    "net.load_state_dict(model_dict)"
   ]
  },
  {
   "cell_type": "code",
   "execution_count": 42,
   "metadata": {},
   "outputs": [],
   "source": [
    "# for k,v in save_model.items():\n",
    "#     if k in model_dict.keys():\n",
    "#         print(k)\n",
    "net.add_module('softmax',Softmax(input_dim = 512, output_dim = len(y[0])))#softmax\n",
    " "
   ]
  },
  {
   "cell_type": "code",
   "execution_count": 43,
   "metadata": {},
   "outputs": [
    {
     "data": {
      "text/plain": [
       "Sequential(\n",
       "  (frame1): TDNN(\n",
       "    (kernel): Linear(in_features=120, out_features=512, bias=True)\n",
       "    (nonlinearity): ReLU()\n",
       "    (bn): BatchNorm1d(512, eps=1e-05, momentum=0.1, affine=True, track_running_stats=True)\n",
       "  )\n",
       "  (frame2): TDNN(\n",
       "    (kernel): Linear(in_features=1536, out_features=512, bias=True)\n",
       "    (nonlinearity): ReLU()\n",
       "    (bn): BatchNorm1d(512, eps=1e-05, momentum=0.1, affine=True, track_running_stats=True)\n",
       "  )\n",
       "  (frame3): TDNN(\n",
       "    (kernel): Linear(in_features=1536, out_features=512, bias=True)\n",
       "    (nonlinearity): ReLU()\n",
       "    (bn): BatchNorm1d(512, eps=1e-05, momentum=0.1, affine=True, track_running_stats=True)\n",
       "  )\n",
       "  (frame4): TDNN(\n",
       "    (kernel): Linear(in_features=512, out_features=512, bias=True)\n",
       "    (nonlinearity): ReLU()\n",
       "    (bn): BatchNorm1d(512, eps=1e-05, momentum=0.1, affine=True, track_running_stats=True)\n",
       "  )\n",
       "  (frame5): TDNN(\n",
       "    (kernel): Linear(in_features=512, out_features=1500, bias=True)\n",
       "    (nonlinearity): ReLU()\n",
       "    (bn): BatchNorm1d(1500, eps=1e-05, momentum=0.1, affine=True, track_running_stats=True)\n",
       "  )\n",
       "  (pool): StatsPooling()\n",
       "  (segment6): Segment(\n",
       "    (kernel): Linear(in_features=3000, out_features=512, bias=True)\n",
       "    (nonlinearity): ReLU()\n",
       "    (bn): BatchNorm1d(512, eps=1e-05, momentum=0.1, affine=True, track_running_stats=True)\n",
       "  )\n",
       "  (segment7): Segment(\n",
       "    (kernel): Linear(in_features=512, out_features=512, bias=True)\n",
       "    (nonlinearity): ReLU()\n",
       "    (bn): BatchNorm1d(512, eps=1e-05, momentum=0.1, affine=True, track_running_stats=True)\n",
       "  )\n",
       "  (softmax): Softmax(\n",
       "    (kernel): Linear(in_features=512, out_features=462, bias=True)\n",
       "    (softmax): Softmax(dim=1)\n",
       "  )\n",
       ")"
      ]
     },
     "execution_count": 43,
     "metadata": {},
     "output_type": "execute_result"
    }
   ],
   "source": [
    "#sdsd = net()\n",
    "\n",
    "#if os.path.exists('trained_net1025.pth'):\n",
    "        #net.load_state_dict(torch.load('trained_net1025.pth'))\n",
    "# net"
   ]
  },
  {
   "cell_type": "code",
   "execution_count": 44,
   "metadata": {},
   "outputs": [
    {
     "name": "stdout",
     "output_type": "stream",
     "text": [
      "tensor([409, 258,  75, 140, 354,  38, 257, 364, 451, 426, 457, 300, 329,  89,\n",
      "         90, 341, 399, 207, 326, 189])\n"
     ]
    }
   ],
   "source": [
    "#pp = p.unsqueeze(1)\n",
    "#pp =F.unfold(X[0],(5,24),stride=1,dilation=1)\n",
    "inputs = inputs.type(torch.float)\n",
    "inputs.requires_grad_(True)\n",
    "out= net(inputs)\n",
    "# out\n",
    "labels = labels.type(torch.float)\n",
    "print(out.argmin(dim=1))\n",
    "val = out.argmin(dim=1)\n",
    "ll = labels.argmax(dim = 1)"
   ]
  },
  {
   "cell_type": "code",
   "execution_count": 45,
   "metadata": {},
   "outputs": [
    {
     "data": {
      "text/plain": [
       "(tensor([409, 258,  75, 140, 354,  38, 257, 364, 451, 426, 457, 300, 329,  89,\n",
       "          90, 341, 399, 207, 326, 189]),\n",
       " tensor([460, 460, 460, 460, 460, 460, 460, 460, 460, 460, 461, 461, 461, 461,\n",
       "         461, 461, 461, 461, 461, 461]))"
      ]
     },
     "execution_count": 45,
     "metadata": {},
     "output_type": "execute_result"
    }
   ],
   "source": [
    "val,ll"
   ]
  },
  {
   "cell_type": "code",
   "execution_count": 46,
   "metadata": {},
   "outputs": [
    {
     "name": "stdout",
     "output_type": "stream",
     "text": [
      "0.0\n"
     ]
    }
   ],
   "source": [
    "\n",
    "\n",
    "count = 0\n",
    "for i in range(len((val))):\n",
    "    if val[i]==ll[i]:\n",
    "        count += 1\n",
    "    \n",
    "# frame1 = TDNN(input_dim=24, output_dim=512, context_size=5, dilation=1)\n",
    "# frame2 = TDNN(input_dim=512, output_dim=512, context_size=3, dilation=2)\n",
    "# frame3 = TDNN(input_dim=512, output_dim=512, context_size=3, dilation=3)\n",
    "# frame4 = TDNN(input_dim=512, output_dim=512, context_size=1, dilation=1)\n",
    "# frame5 = TDNN(input_dim=512, output_dim=1500, context_size=1, dilation=1)\n",
    "# pool = StatsPooling()\n",
    "# segment6 = Segment(input_dim=3000, output_dim=512)\n",
    "# segment7 =Segment(input_dim=512, output_dim=512)\n",
    "print(count/len(val))"
   ]
  },
  {
   "cell_type": "code",
   "execution_count": null,
   "metadata": {},
   "outputs": [],
   "source": [
    "\n",
    "# layer1 = frame1(q)# input TDNN(batch, seq_len, input_features)\n",
    "# layer1"
   ]
  },
  {
   "cell_type": "code",
   "execution_count": null,
   "metadata": {},
   "outputs": [],
   "source": [
    "# layer2 = frame2(layer1)\n",
    "# layer2\n"
   ]
  },
  {
   "cell_type": "code",
   "execution_count": null,
   "metadata": {},
   "outputs": [],
   "source": [
    "# layer3 = frame3(layer2)\n"
   ]
  },
  {
   "cell_type": "code",
   "execution_count": null,
   "metadata": {},
   "outputs": [],
   "source": [
    "# layer4 = frame4(layer3)\n"
   ]
  },
  {
   "cell_type": "code",
   "execution_count": null,
   "metadata": {},
   "outputs": [],
   "source": [
    "# layer5 = frame5(layer4)\n"
   ]
  },
  {
   "cell_type": "code",
   "execution_count": null,
   "metadata": {},
   "outputs": [],
   "source": [
    "# layer5"
   ]
  },
  {
   "cell_type": "code",
   "execution_count": null,
   "metadata": {},
   "outputs": [],
   "source": [
    "\n",
    "# \n",
    "# layer6 = pool(layer5)\n"
   ]
  },
  {
   "cell_type": "code",
   "execution_count": null,
   "metadata": {},
   "outputs": [],
   "source": [
    "# layer6"
   ]
  },
  {
   "cell_type": "code",
   "execution_count": null,
   "metadata": {},
   "outputs": [],
   "source": [
    "# se = segment6(layer6)\n",
    "# se2 = segment7(se)"
   ]
  },
  {
   "cell_type": "code",
   "execution_count": null,
   "metadata": {},
   "outputs": [],
   "source": [
    "# se = segment6(layer6)\n",
    "# se2 = segment7(se)"
   ]
  },
  {
   "cell_type": "code",
   "execution_count": null,
   "metadata": {},
   "outputs": [],
   "source": []
  },
  {
   "cell_type": "code",
   "execution_count": null,
   "metadata": {},
   "outputs": [],
   "source": [
    "#  sdsd = net(q)\n",
    "# # sdsd\n",
    "# layer5.shape\n",
    "# # layer6.shape\n",
    "# #mean = layer5.mean(dim=1)\n"
   ]
  },
  {
   "cell_type": "code",
   "execution_count": null,
   "metadata": {},
   "outputs": [],
   "source": []
  },
  {
   "cell_type": "code",
   "execution_count": null,
   "metadata": {},
   "outputs": [],
   "source": [
    "# q1= torch.tensor(X[5:10],dtype =torch.float,requires_grad=True)\n",
    "# target= torch.tensor(y[0:5],dtype= torch.float)"
   ]
  },
  {
   "cell_type": "code",
   "execution_count": null,
   "metadata": {},
   "outputs": [],
   "source": [
    "# target1= torch.tensor(y[5:10],dtype= torch.float)\n",
    "# target"
   ]
  },
  {
   "cell_type": "code",
   "execution_count": null,
   "metadata": {},
   "outputs": [],
   "source": [
    "\n",
    "# sdsd = net(q)\n",
    "# loss = nn.MSELoss(reduction='sum')\n",
    "\n",
    "# l = (loss(sdsd,target))\n",
    "# #output\n",
    "# optimizer = optim.Adam(net.parameters(), lr=0.02)\n",
    "# net.zero_grad()\n",
    "# l.backward()\n",
    "# optimizer.step()\n",
    "# print(l)\n",
    "\n",
    "# # for param in net.parameters():\n",
    "# #     print(param[0])\n",
    "\n",
    "# print('=================================')    \n",
    "\n",
    "# out = net(inputs)"
   ]
  },
  {
   "cell_type": "code",
   "execution_count": null,
   "metadata": {},
   "outputs": [],
   "source": [
    "# for i in range(100):\n",
    "#     sdsd1 = net(q1)\n",
    "#     loss = nn.MSELoss(reduction='sum')\n",
    "\n",
    "#     l = (loss(sdsd1,target1))\n",
    "#     #output\n",
    "#     optimizer = optim.Adam(net.parameters(), lr=0.02)\n",
    "#     net.zero_grad()\n",
    "#     l.backward()\n",
    "#     optimizer.step()\n",
    "#     print('loss is %.4f'%(l))\n",
    "\n",
    "# # for param in net.parameters():\n",
    "# #     print(param[0])\n"
   ]
  },
  {
   "cell_type": "code",
   "execution_count": null,
   "metadata": {},
   "outputs": [],
   "source": [
    "num_epoch = 100\n",
    "for epoch in range(1,num_epoch+1):\n",
    "    for i, data in enumerate(trainloader, 0):\n",
    "        # get the inputs; data is a list of [inputs, labels]\n",
    "        input_, label = data\n",
    "        #inputs, labels = inputs.cuda(), labels.cuda()\n",
    "        #output= net(inputs).cuda()\n",
    "        inputs = input_.type(torch.float)\n",
    "        inputs.requires_grad_(True)\n",
    "        labels = label.type(torch.float)\n",
    "        output = net(inputs)\n",
    "#         loss = nn.MSELoss(reduction='sum')\n",
    "        #l = (torch.sum(output*labels))\n",
    "        a = torch.max(output)\n",
    "#         optimizer = optim.Adam(net.parameters(), lr=0.02)\n",
    "#         net.zero_grad()\n",
    "#         l.backward()\n",
    "#         optimizer.step()    \n",
    "#     print('epoch %d, loss: %f' % (epoch, l.item()))\n",
    "#     if (epoch % 50) ==0:\n",
    "#         torch.save(net.state_dict(),'trained_net.pth')\n",
    "#         print('model saved, epoch: %d'%(epoch))\n",
    "        "
   ]
  },
  {
   "cell_type": "code",
   "execution_count": null,
   "metadata": {},
   "outputs": [],
   "source": [
    "input_"
   ]
  }
 ],
 "metadata": {
  "kernelspec": {
   "display_name": "Python [conda env:deeplearning]",
   "language": "python",
   "name": "conda-env-deeplearning-py"
  },
  "language_info": {
   "codemirror_mode": {
    "name": "ipython",
    "version": 3
   },
   "file_extension": ".py",
   "mimetype": "text/x-python",
   "name": "python",
   "nbconvert_exporter": "python",
   "pygments_lexer": "ipython3",
   "version": "3.7.7"
  }
 },
 "nbformat": 4,
 "nbformat_minor": 4
}
