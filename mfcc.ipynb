{
 "cells": [
  {
   "cell_type": "code",
   "execution_count": 2,
   "metadata": {},
   "outputs": [],
   "source": [
    "import os\n",
    "import numpy as np\n",
    "import matplotlib.pyplot as plt\n",
    "from python_speech_features import mfcc\n",
    "import pickle"
   ]
  },
  {
   "cell_type": "code",
   "execution_count": 18,
   "metadata": {},
   "outputs": [],
   "source": [
    "from scipy.io import wavfile\n",
    "import torch\n",
    "filepath = \"/Users/tanikin/projct/TIMIT/train\"\n",
    "wavelist = []\n",
    "label = []\n",
    "dirnames = os.listdir(filepath)\n",
    "i = 0\n",
    "\n",
    "for dir in dirnames:\n",
    "    if dir == '.DS_Store':\n",
    "        continue\n",
    "    for filename in os.listdir(os.path.join(filepath, dir)):\n",
    "        if filename == '.DS_Store':\n",
    "            continue\n",
    "        i+=1\n",
    "        label.append(i)\n",
    "        for file in os.listdir(os.path.join(filepath, dir, filename)):\n",
    "            if file == '.DS_Store':\n",
    "                continue\n",
    "            name, category = os.path.splitext(os.path.join(filepath, dir, filename, file))  # split the filename\n",
    "            if category == '.wav':  # if wav file\n",
    "                # wavelist.append(name+category)\n",
    "                sample_rate, signal = wavfile.read(name+category)\n",
    "                MFCC = mfcc(signal, samplerate=sample_rate, numcep=24\n",
    "                            , nfilt=26, nfft=1024)\n",
    "                #wavelist.append(torch.tensor(MFCC,dtype = torch.float))\n",
    "                wavelist.append(MFCC)"
   ]
  },
  {
   "cell_type": "code",
   "execution_count": 15,
   "metadata": {},
   "outputs": [
    {
     "ename": "ValueError",
     "evalue": "expected sequence of length 161 at dim 1 (got 540)",
     "output_type": "error",
     "traceback": [
      "\u001b[0;31m---------------------------------------------------------------------------\u001b[0m",
      "\u001b[0;31mValueError\u001b[0m                                Traceback (most recent call last)",
      "\u001b[0;32m<ipython-input-15-21b14e59f691>\u001b[0m in \u001b[0;36m<module>\u001b[0;34m\u001b[0m\n\u001b[0;32m----> 1\u001b[0;31m \u001b[0mwww\u001b[0m \u001b[0;34m=\u001b[0m \u001b[0mtorch\u001b[0m\u001b[0;34m.\u001b[0m\u001b[0mtensor\u001b[0m\u001b[0;34m(\u001b[0m\u001b[0mwavelist\u001b[0m\u001b[0;34m,\u001b[0m\u001b[0mdtype\u001b[0m \u001b[0;34m=\u001b[0m \u001b[0mtorch\u001b[0m\u001b[0;34m.\u001b[0m\u001b[0mfloat\u001b[0m\u001b[0;34m)\u001b[0m\u001b[0;34m\u001b[0m\u001b[0;34m\u001b[0m\u001b[0m\n\u001b[0m",
      "\u001b[0;31mValueError\u001b[0m: expected sequence of length 161 at dim 1 (got 540)"
     ]
    }
   ],
   "source": [
    "#www = torch.tensor(wavelist,dtype = torch.float)"
   ]
  },
  {
   "cell_type": "code",
   "execution_count": 45,
   "metadata": {},
   "outputs": [],
   "source": [
    "\n",
    "a = wavelist\n",
    "wavlist = []\n",
    "max_= len(max(wavelist,key = lambda x: len(x)))\n",
    "for wav in a:\n",
    "    b = np.zeros((max_,24))\n",
    "    for i,j in enumerate(wav):\n",
    "        b[i][0:len(j)] = j\n",
    "    wavlist.append(b)"
   ]
  },
  {
   "cell_type": "code",
   "execution_count": 50,
   "metadata": {},
   "outputs": [
    {
     "data": {
      "text/plain": [
       "778"
      ]
     },
     "execution_count": 50,
     "metadata": {},
     "output_type": "execute_result"
    }
   ],
   "source": [
    "len(wavlist[998])"
   ]
  },
  {
   "cell_type": "code",
   "execution_count": 51,
   "metadata": {},
   "outputs": [],
   "source": [
    "with open('test1.pkl','wb') as f:\n",
    "    pickle.dump([wavlist,label],f)\n"
   ]
  },
  {
   "cell_type": "code",
   "execution_count": 5,
   "metadata": {},
   "outputs": [],
   "source": [
    "with open('test.pkl','rb') as f:\n",
    "    o,j = pickle.load(f)"
   ]
  },
  {
   "cell_type": "code",
   "execution_count": 34,
   "metadata": {},
   "outputs": [
    {
     "name": "stdout",
     "output_type": "stream",
     "text": [
      "Help on function mfcc in module python_speech_features.base:\n",
      "\n",
      "mfcc(signal, samplerate=16000, winlen=0.025, winstep=0.01, numcep=13, nfilt=26, nfft=512, lowfreq=0, highfreq=None, preemph=0.97, ceplifter=22, appendEnergy=True, winfunc=<function <lambda> at 0x7feb4820bcb0>)\n",
      "    Compute MFCC features from an audio signal.\n",
      "    \n",
      "    :param signal: the audio signal from which to compute features. Should be an N*1 array\n",
      "    :param samplerate: the samplerate of the signal we are working with.\n",
      "    :param winlen: the length of the analysis window in seconds. Default is 0.025s (25 milliseconds)\n",
      "    :param winstep: the step between successive windows in seconds. Default is 0.01s (10 milliseconds)\n",
      "    :param numcep: the number of cepstrum to return, default 13\n",
      "    :param nfilt: the number of filters in the filterbank, default 26.\n",
      "    :param nfft: the FFT size. Default is 512.\n",
      "    :param lowfreq: lowest band edge of mel filters. In Hz, default is 0.\n",
      "    :param highfreq: highest band edge of mel filters. In Hz, default is samplerate/2\n",
      "    :param preemph: apply preemphasis filter with preemph as coefficient. 0 is no filter. Default is 0.97.\n",
      "    :param ceplifter: apply a lifter to final cepstral coefficients. 0 is no lifter. Default is 22.\n",
      "    :param appendEnergy: if this is true, the zeroth cepstral coefficient is replaced with the log of the total frame energy.\n",
      "    :param winfunc: the analysis window to apply to each frame. By default no window is applied. You can use numpy window functions here e.g. winfunc=numpy.hamming\n",
      "    :returns: A numpy array of size (NUMFRAMES by numcep) containing features. Each row holds 1 feature vector.\n",
      "\n"
     ]
    }
   ],
   "source": [
    "help(mfcc)"
   ]
  },
  {
   "cell_type": "code",
   "execution_count": null,
   "metadata": {},
   "outputs": [],
   "source": []
  }
 ],
 "metadata": {
  "kernelspec": {
   "display_name": "Python 3",
   "language": "python",
   "name": "python3"
  },
  "language_info": {
   "codemirror_mode": {
    "name": "ipython",
    "version": 3
   },
   "file_extension": ".py",
   "mimetype": "text/x-python",
   "name": "python",
   "nbconvert_exporter": "python",
   "pygments_lexer": "ipython3",
   "version": "3.7.6"
  }
 },
 "nbformat": 4,
 "nbformat_minor": 4
}
